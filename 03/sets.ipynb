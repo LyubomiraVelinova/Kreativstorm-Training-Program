{
 "cells": [
  {
   "attachments": {},
   "cell_type": "markdown",
   "metadata": {},
   "source": [
    "1. Given two sets A and B, write a function to return the symmetric difference between them as a new set. The symmetric difference is the set of elements that are in either A or B, but not in both."
   ]
  },
  {
   "cell_type": "code",
   "execution_count": 1,
   "metadata": {},
   "outputs": [
    {
     "name": "stdout",
     "output_type": "stream",
     "text": [
      "{6, 7, 8, 9}\n"
     ]
    }
   ],
   "source": [
    "A = {1, 3, 7, 8}\n",
    "B = {6, 3, 1, 9}\n",
    "\n",
    "result = A.symmetric_difference(B)\n",
    "print(result)"
   ]
  },
  {
   "attachments": {},
   "cell_type": "markdown",
   "metadata": {},
   "source": [
    "2. Given a list of numbers, write a function to return a set of all prime numbers from the list."
   ]
  },
  {
   "cell_type": "code",
   "execution_count": 2,
   "metadata": {},
   "outputs": [
    {
     "name": "stdout",
     "output_type": "stream",
     "text": [
      "{67, 5}\n"
     ]
    }
   ],
   "source": [
    "def is_prime(n):\n",
    "    if n <= 1:\n",
    "        return False\n",
    "    if n <= 3:\n",
    "        return True\n",
    "    if n % 2 == 0 or n % 3 == 0:\n",
    "        return False\n",
    "    i = 5\n",
    "    while i * i <= n:\n",
    "        if n % i == 0 or n % (i + 2) == 0:\n",
    "            return False\n",
    "        i += 6\n",
    "    return True\n",
    "\n",
    "\n",
    "def get_prime_numbers(list_of_numbers):\n",
    "    prime_numbers = set()\n",
    "    for num in list_of_numbers:\n",
    "        if is_prime(num):\n",
    "            prime_numbers.add(num)\n",
    "    return prime_numbers\n",
    "\n",
    "\n",
    "numbers = [18, 67, 49, 5, 34, 21, 87, 87, 4, 5, 34, 18]\n",
    "print(get_prime_numbers(numbers))"
   ]
  },
  {
   "attachments": {},
   "cell_type": "markdown",
   "metadata": {},
   "source": [
    "3. Given a list of words, write a function to return a set of all anagrams in the list."
   ]
  },
  {
   "cell_type": "code",
   "execution_count": 3,
   "metadata": {},
   "outputs": [
    {
     "name": "stdout",
     "output_type": "stream",
     "text": [
      "{'spar', 'colck', 'hook', 'clock', 'kooh', 'rasp'}\n"
     ]
    }
   ],
   "source": [
    "def are_anagrams(first_word: str, second_word: str):\n",
    "    are_chars_same = False\n",
    "    for ch in first_word:\n",
    "        if ch in second_word:\n",
    "            second_word.replace(ch, '', 1)\n",
    "            are_chars_same = True\n",
    "        else:\n",
    "            return False\n",
    "    return are_chars_same\n",
    "\n",
    "\n",
    "def get_anagrams(list_of_words):\n",
    "    anagrams = set()\n",
    "    for word in list_of_words:\n",
    "        list_of_words.remove(word)\n",
    "        for compared_word in list_of_words:\n",
    "            if are_anagrams(word, compared_word):\n",
    "                anagrams.add(word)\n",
    "                anagrams.add(compared_word)\n",
    "                list_of_words.remove(compared_word)\n",
    "    return anagrams\n",
    "\n",
    "\n",
    "words = ['rasp', 'hyf', 'spar', 'hook', 'kooh', 'huhgf', 'clock', 'colck']\n",
    "print(get_anagrams(words))"
   ]
  },
  {
   "attachments": {},
   "cell_type": "markdown",
   "metadata": {},
   "source": [
    "4. Given a list of sets, write a function to return the Cartesian product of all sets in the list."
   ]
  },
  {
   "cell_type": "code",
   "execution_count": 4,
   "metadata": {},
   "outputs": [
    {
     "name": "stdout",
     "output_type": "stream",
     "text": [
      "[(1, 'B', False), (1, 'B', True), (1, 'A', False), (1, 'A', True), (2, 'B', False), (2, 'B', True), (2, 'A', False), (2, 'A', True)]\n"
     ]
    }
   ],
   "source": [
    "from itertools import product\n",
    "\n",
    "\n",
    "def cartesian_product(sets):\n",
    "    if not sets:\n",
    "        return []\n",
    "    result = list(product(*sets))\n",
    "    return result\n",
    "\n",
    "\n",
    "first_set = {1, 2}\n",
    "second_set = {'A', 'B'}\n",
    "third_set = {True, False}\n",
    "list_of_sets = [first_set, second_set, third_set]\n",
    "print(cartesian_product(list_of_sets))"
   ]
  },
  {
   "cell_type": "code",
   "execution_count": null,
   "metadata": {},
   "outputs": [],
   "source": []
  }
 ],
 "metadata": {
  "kernelspec": {
   "display_name": "Python 3 (ipykernel)",
   "language": "python",
   "name": "python3"
  },
  "language_info": {
   "codemirror_mode": {
    "name": "ipython",
    "version": 3
   },
   "file_extension": ".py",
   "mimetype": "text/x-python",
   "name": "python",
   "nbconvert_exporter": "python",
   "pygments_lexer": "ipython3",
   "version": "3.11.0"
  },
  "vscode": {
   "interpreter": {
    "hash": "f7a5be651532581cb44625d52e18aa1d390cab54bc6b51099d8c30bea9b68219"
   }
  }
 },
 "nbformat": 4,
 "nbformat_minor": 4
}
