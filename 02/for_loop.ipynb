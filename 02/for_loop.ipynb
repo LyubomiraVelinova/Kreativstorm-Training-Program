{
 "cells": [
  {
   "attachments": {},
   "cell_type": "markdown",
   "metadata": {},
   "source": [
    "1. Create a for loop that iterates through a list of strings and prints each string in uppercase."
   ]
  },
  {
   "cell_type": "code",
   "execution_count": 1,
   "metadata": {},
   "outputs": [
    {
     "name": "stdin",
     "output_type": "stream",
     "text": [
      "Enter strings, separated by space:  h h h k g ji d\n"
     ]
    },
    {
     "name": "stdout",
     "output_type": "stream",
     "text": [
      "H\n",
      "H\n",
      "H\n",
      "K\n",
      "G\n",
      "JI\n",
      "D\n"
     ]
    }
   ],
   "source": [
    "chars = input('Enter strings, separated by space: ').split(' ')\n",
    "\n",
    "\n",
    "for char in chars:\n",
    "    print(char.upper())"
   ]
  },
  {
   "attachments": {},
   "cell_type": "markdown",
   "metadata": {},
   "source": [
    "2. Create a for loop that iterates through a list of numbers and prints the square of each number."
   ]
  },
  {
   "cell_type": "code",
   "execution_count": 2,
   "metadata": {},
   "outputs": [
    {
     "name": "stdin",
     "output_type": "stream",
     "text": [
      "Enter numbers, separated by space:  4 5 6 7 8\n"
     ]
    },
    {
     "name": "stdout",
     "output_type": "stream",
     "text": [
      "16\n",
      "25\n",
      "36\n",
      "49\n",
      "64\n"
     ]
    }
   ],
   "source": [
    "numbers = [int(num) for num in input('Enter numbers, separated by space: ').split(' ')]\n",
    "\n",
    "for num in numbers:\n",
    "    print(num * num)"
   ]
  },
  {
   "attachments": {},
   "cell_type": "markdown",
   "metadata": {},
   "source": [
    "3. Create a for loop that iterates through a list of dictionaries and prints the value of a specified key for each dictionary."
   ]
  },
  {
   "cell_type": "code",
   "execution_count": 3,
   "metadata": {},
   "outputs": [
    {
     "name": "stdout",
     "output_type": "stream",
     "text": [
      "1\n",
      "2\n",
      "3\n"
     ]
    }
   ],
   "source": [
    "list_of_dictionaries = [\n",
    "    {'1': 'first'},\n",
    "    {'2': 'second'},\n",
    "    {'3': 'third'},\n",
    "]\n",
    "\n",
    "for every_dict in list_of_dictionaries:\n",
    "    for key in every_dict.keys():\n",
    "        print(key)"
   ]
  },
  {
   "attachments": {},
   "cell_type": "markdown",
   "metadata": {},
   "source": [
    "4. Create a for loop that iterates through a list of numbers and prints the largest number in the list."
   ]
  },
  {
   "cell_type": "code",
   "execution_count": 4,
   "metadata": {},
   "outputs": [
    {
     "name": "stdout",
     "output_type": "stream",
     "text": [
      "8\n"
     ]
    }
   ],
   "source": [
    "numbers = [2, 4, 5, 7, 8]\n",
    "\n",
    "largest_num = 0\n",
    "for num in numbers:\n",
    "    if num > 0:\n",
    "        largest_num = num\n",
    "\n",
    "print(largest_num)"
   ]
  },
  {
   "attachments": {},
   "cell_type": "markdown",
   "metadata": {},
   "source": [
    "5. Create a for loop that iterates through a list of lists and prints the sum of the elements in each sub-list."
   ]
  },
  {
   "cell_type": "code",
   "execution_count": 5,
   "metadata": {},
   "outputs": [
    {
     "name": "stdout",
     "output_type": "stream",
     "text": [
      "6\n",
      "12\n",
      "30\n"
     ]
    }
   ],
   "source": [
    "matrix = [[2, 4], [5, 7], [8, 22]]\n",
    "for sublist in matrix:\n",
    "    print(sum(sublist))"
   ]
  },
  {
   "cell_type": "code",
   "execution_count": null,
   "metadata": {},
   "outputs": [],
   "source": []
  }
 ],
 "metadata": {
  "kernelspec": {
   "display_name": "Python 3 (ipykernel)",
   "language": "python",
   "name": "python3"
  },
  "language_info": {
   "codemirror_mode": {
    "name": "ipython",
    "version": 3
   },
   "file_extension": ".py",
   "mimetype": "text/x-python",
   "name": "python",
   "nbconvert_exporter": "python",
   "pygments_lexer": "ipython3",
   "version": "3.11.0"
  }
 },
 "nbformat": 4,
 "nbformat_minor": 4
}
