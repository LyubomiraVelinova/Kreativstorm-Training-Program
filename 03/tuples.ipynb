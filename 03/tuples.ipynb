{
 "cells": [
  {
   "attachments": {},
   "cell_type": "markdown",
   "metadata": {},
   "source": [
    "1. Write a function to find the most common elements in a tuple."
   ]
  },
  {
   "cell_type": "code",
   "execution_count": 1,
   "metadata": {},
   "outputs": [
    {
     "name": "stdout",
     "output_type": "stream",
     "text": [
      "[5]\n"
     ]
    }
   ],
   "source": [
    "from collections import Counter\n",
    "\n",
    "\n",
    "def get_most_common_elements(input_tuple):\n",
    "    elements = Counter(input_tuple)\n",
    "    most_common = elements.most_common()\n",
    "    max_count = most_common[0][1]\n",
    "    most_common_elements = [el for el, count in most_common if max_count == count]\n",
    "    return most_common_elements\n",
    "\n",
    "\n",
    "data = (1, 5, 8, 5, 8, 3, 0, 4, 5)\n",
    "result = get_most_common_elements(data)\n",
    "print(result)\n"
   ]
  },
  {
   "attachments": {},
   "cell_type": "markdown",
   "metadata": {},
   "source": [
    "2. Write a function to check if a given tuple is a palindrome, meaning the elements are the same in reverse order."
   ]
  },
  {
   "cell_type": "code",
   "execution_count": null,
   "metadata": {},
   "outputs": [],
   "source": [
    "def is_palindrome(input_tuple):\n",
    "    are_equal = False\n",
    "    for i in range(len(input_tuple)//2):\n",
    "        if input_tuple[i] == input_tuple[-(i + 1)]:\n",
    "            are_equal = True\n",
    "        else:\n",
    "            are_equal = False\n",
    "            break\n",
    "    return are_equal\n",
    "\n",
    "\n",
    "data = (1, 2, 3, 4, 5, 5, 4, 3, 2, 1)\n",
    "print(is_palindrome(data))"
   ]
  },
  {
   "attachments": {},
   "cell_type": "markdown",
   "metadata": {},
   "source": [
    "3. Write a function to find the frequency of elements in a tuple, and return a dictionary mapping each element to its frequency."
   ]
  },
  {
   "cell_type": "code",
   "execution_count": 2,
   "metadata": {},
   "outputs": [
    {
     "name": "stdout",
     "output_type": "stream",
     "text": [
      "defaultdict(<class 'int'>, {1: 2, 6: 2, 3: 2, 4: 1, 5: 2, 9: 1})\n"
     ]
    }
   ],
   "source": [
    "from collections import defaultdict\n",
    "\n",
    "\n",
    "def get_elements_frequency(input_tuple):\n",
    "    elements_frequency = defaultdict(int)\n",
    "    for el in input_tuple:\n",
    "        elements_frequency[el] += 1\n",
    "    return elements_frequency\n",
    "\n",
    "\n",
    "data = (1, 6, 3, 4, 5, 5, 9, 3, 6, 1)\n",
    "print(get_elements_frequency(data))"
   ]
  },
  {
   "attachments": {},
   "cell_type": "markdown",
   "metadata": {},
   "source": [
    "4. Write a function that takes a tuple as an argument and returns a new tuple with only the even elements from the original tuple."
   ]
  },
  {
   "cell_type": "code",
   "execution_count": 3,
   "metadata": {},
   "outputs": [
    {
     "name": "stdout",
     "output_type": "stream",
     "text": [
      "(6, 4, 6)\n"
     ]
    }
   ],
   "source": [
    "def get_even_elements(input_tuple):\n",
    "    new_tuple = tuple(el for el in input_tuple if el % 2 == 0)\n",
    "    return new_tuple\n",
    "\n",
    "\n",
    "data = (1, 6, 3, 4, 5, 5, 9, 3, 6, 1)\n",
    "print(get_even_elements(data))"
   ]
  },
  {
   "attachments": {},
   "cell_type": "markdown",
   "metadata": {},
   "source": [
    "5. Write a function to find all unique elements in a tuple and return them in a new tuple."
   ]
  },
  {
   "cell_type": "code",
   "execution_count": 4,
   "metadata": {},
   "outputs": [
    {
     "name": "stdout",
     "output_type": "stream",
     "text": [
      "(4, 9)\n"
     ]
    }
   ],
   "source": [
    "from collections import Counter\n",
    "\n",
    "\n",
    "def get_unique_elements(input_tuple):\n",
    "    element_frequency = Counter(input_tuple)\n",
    "    most_common_tuple = element_frequency.most_common()\n",
    "    unique_elements = tuple(el for el, count in most_common_tuple if count == 1)\n",
    "    return unique_elements\n",
    "\n",
    "\n",
    "data = (1, 6, 3, 4, 5, 5, 9, 3, 6, 1)\n",
    "print(get_unique_elements(data))"
   ]
  },
  {
   "cell_type": "code",
   "execution_count": 5,
   "metadata": {},
   "outputs": [
    {
     "name": "stdout",
     "output_type": "stream",
     "text": [
      "(4, 9)\n"
     ]
    }
   ],
   "source": [
    "def get_unique_elements(input_tuple):\n",
    "    unique_elements = tuple(el for el in input_tuple if input_tuple.count(el) == 1)\n",
    "    return unique_elements\n",
    "\n",
    "\n",
    "data = (1, 6, 3, 4, 5, 5, 9, 3, 6, 1)\n",
    "print(get_unique_elements(data))"
   ]
  },
  {
   "cell_type": "code",
   "execution_count": null,
   "metadata": {},
   "outputs": [],
   "source": []
  }
 ],
 "metadata": {
  "kernelspec": {
   "display_name": "Python 3 (ipykernel)",
   "language": "python",
   "name": "python3"
  },
  "language_info": {
   "codemirror_mode": {
    "name": "ipython",
    "version": 3
   },
   "file_extension": ".py",
   "mimetype": "text/x-python",
   "name": "python",
   "nbconvert_exporter": "python",
   "pygments_lexer": "ipython3",
   "version": "3.11.0"
  },
  "vscode": {
   "interpreter": {
    "hash": "f7a5be651532581cb44625d52e18aa1d390cab54bc6b51099d8c30bea9b68219"
   }
  }
 },
 "nbformat": 4,
 "nbformat_minor": 4
}
