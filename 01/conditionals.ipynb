{
 "cells": [
  {
   "cell_type": "markdown",
   "metadata": {},
   "source": [
    "1. Write a program that prompts the user for a string and checks whether the string is a palindrome (i.e., the string reads the same forward and backward)."
   ]
  },
  {
   "cell_type": "code",
   "execution_count": 6,
   "metadata": {},
   "outputs": [
    {
     "name": "stdout",
     "output_type": "stream",
     "text": [
      "Enter a string: tryrt\n",
      "True\n"
     ]
    }
   ],
   "source": [
    "def is_palindrome(text: str):\n",
    "    return text == text[::-1]\n",
    "\n",
    "\n",
    "user_input = input(\"Enter a string: \")\n",
    "\n",
    "print(is_palindrome(user_input))"
   ]
  },
  {
   "cell_type": "markdown",
   "metadata": {},
   "source": [
    "2. Write a program that takes in a list of integers and returns the sum of all even numbers in the list."
   ]
  },
  {
   "cell_type": "code",
   "execution_count": 7,
   "metadata": {},
   "outputs": [
    {
     "name": "stdout",
     "output_type": "stream",
     "text": [
      "14\n"
     ]
    }
   ],
   "source": [
    "def get_even_numbers(numbers: list):\n",
    "    even_nums = [num for num in numbers if num % 2 == 0]\n",
    "    return sum(even_nums)\n",
    "\n",
    "print(get_even_numbers([2,4,7,8]))"
   ]
  },
  {
   "cell_type": "markdown",
   "metadata": {},
   "source": [
    "3. Write a program that prompts the user for their age and checks whether they are old enough to vote (i.e., 18 years old or older)."
   ]
  },
  {
   "cell_type": "code",
   "execution_count": 5,
   "metadata": {},
   "outputs": [
    {
     "name": "stdout",
     "output_type": "stream",
     "text": [
      "Enter your age: 34\n",
      "You are old enough to vote.\n"
     ]
    }
   ],
   "source": [
    "age = input(\"Enter your age: \")\n",
    "try:\n",
    "    age = int(age)\n",
    "    if age >= 18:\n",
    "        print('You are old enough to vote.')\n",
    "    else:\n",
    "        print('You are not old enough to vote.')\n",
    "except ValueError:\n",
    "    print(\"Invalid input. Please enter a valid age as a number.\")"
   ]
  },
  {
   "cell_type": "markdown",
   "metadata": {},
   "source": [
    "4. Write a program that takes in a list of integers and returns the largest number in the list that is also divisible by 3."
   ]
  },
  {
   "cell_type": "code",
   "execution_count": 8,
   "metadata": {},
   "outputs": [
    {
     "name": "stdout",
     "output_type": "stream",
     "text": [
      "9\n"
     ]
    }
   ],
   "source": [
    "def finding_largest_num_divisible_by_three(numbers: list):\n",
    "    divisible_by_three_nums = [num for num in numbers if num % 3 == 0]\n",
    "    sorted_divisible_by_three_nums = sorted(divisible_by_three_nums, reverse=True)\n",
    "    return sorted_divisible_by_three_nums[0]\n",
    "\n",
    "\n",
    "print(finding_largest_num_divisible_by_three([1, 4, 8, 9, 37]))"
   ]
  },
  {
   "cell_type": "markdown",
   "metadata": {},
   "source": [
    "5. Write a program that prompts the user for a number and checks whether the number is a prime number (i.e., only divisible by 1 and itself)."
   ]
  },
  {
   "cell_type": "code",
   "execution_count": 9,
   "metadata": {},
   "outputs": [
    {
     "name": "stdout",
     "output_type": "stream",
     "text": [
      "Enter a number: 56\n",
      "56 is not a prime number.\n"
     ]
    }
   ],
   "source": [
    "def is_prime_num(num):\n",
    "    if num <= 1:\n",
    "        return False\n",
    "    elif num <= 3:\n",
    "        return True\n",
    "    elif num % 2 == 0 or num % 3 == 0:\n",
    "        return False\n",
    "    i = 5\n",
    "    while i * i <= num:\n",
    "        if num % i == 0 or num % (i + 2) == 0:\n",
    "            return False\n",
    "        i += 6\n",
    "    return True\n",
    "\n",
    "\n",
    "user_input = int(input(\"Enter a number: \"))\n",
    "\n",
    "try:\n",
    "    if is_prime_num(user_input):\n",
    "        print(f'{user_input} is a prime number.')\n",
    "    else:\n",
    "        print(f'{user_input} is not a prime number.')\n",
    "except ValueError:\n",
    "    print(\"Invalid data. Please, insert a valid number.\")"
   ]
  }
 ],
 "metadata": {
  "kernelspec": {
   "display_name": "Python 3 (ipykernel)",
   "language": "python",
   "name": "python3"
  },
  "language_info": {
   "codemirror_mode": {
    "name": "ipython",
    "version": 3
   },
   "file_extension": ".py",
   "mimetype": "text/x-python",
   "name": "python",
   "nbconvert_exporter": "python",
   "pygments_lexer": "ipython3",
   "version": "3.11.4"
  },
  "vscode": {
   "interpreter": {
    "hash": "f7a5be651532581cb44625d52e18aa1d390cab54bc6b51099d8c30bea9b68219"
   }
  }
 },
 "nbformat": 4,
 "nbformat_minor": 2
}
