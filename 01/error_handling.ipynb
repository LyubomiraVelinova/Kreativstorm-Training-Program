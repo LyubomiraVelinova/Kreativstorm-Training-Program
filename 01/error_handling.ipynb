{
 "cells": [
  {
   "cell_type": "markdown",
   "metadata": {},
   "source": [
    "1. Write a function that takes a list of integers as an argument, and returns the sum of the integers. Use a try-except block to catch any ValueError exceptions that may be raised when attempting to convert a string to an integer."
   ]
  },
  {
   "cell_type": "code",
   "execution_count": 1,
   "metadata": {},
   "outputs": [
    {
     "name": "stdout",
     "output_type": "stream",
     "text": [
      "Enter a list of integers, separated by comma and spaces: 5, 7, 8\n",
      "20\n"
     ]
    }
   ],
   "source": [
    "def integers_sum(numbers: list):\n",
    "    numbers_sum = 0\n",
    "    for num in numbers:\n",
    "        numbers_sum += num\n",
    "    return numbers_sum\n",
    "\n",
    "\n",
    "user_input = input(\"Enter a list of integers, separated by comma and spaces: \")\n",
    "input_list = user_input.split(', ')\n",
    "\n",
    "try:\n",
    "    int_list = list(map(int, input_list))\n",
    "    print(integers_sum(int_list))\n",
    "except ValueError:\n",
    "    print(\"Invalid data!\")"
   ]
  },
  {
   "cell_type": "markdown",
   "metadata": {},
   "source": [
    "2. Write a function that takes a filename as an argument, and attempts to open the file. Use a try-except block to catch any FileNotFoundError exceptions that may be raised when attempting to open the file. If the file is successfully opened, the function should return the contents of the file."
   ]
  },
  {
   "cell_type": "code",
   "execution_count": 2,
   "metadata": {},
   "outputs": [
    {
     "name": "stdout",
     "output_type": "stream",
     "text": [
      "The file example.txt was not found.\n"
     ]
    }
   ],
   "source": [
    "def read_file(filename):\n",
    "    try:\n",
    "        with open(filename, 'r') as file:\n",
    "            contents = file.read()\n",
    "        return contents\n",
    "    except FileNotFoundError:\n",
    "        return f'The file {filename} was not found.'\n",
    "\n",
    "\n",
    "filename = \"example.txt\"\n",
    "print(read_file(filename))"
   ]
  },
  {
   "cell_type": "markdown",
   "metadata": {},
   "source": [
    "3. Write a function that takes a list of strings as an argument, and returns a new list containing only the strings that can be successfully converted to a float. Use a try-except block to catch any ValueError exceptions that may be raised when attempting to convert a string to a float."
   ]
  },
  {
   "cell_type": "code",
   "execution_count": 3,
   "metadata": {},
   "outputs": [
    {
     "name": "stdout",
     "output_type": "stream",
     "text": [
      "Enter list of strings, separated by comma and space: 7, 8, 9.9, gth\n",
      "[7.0, 8.0, 9.9]\n"
     ]
    }
   ],
   "source": [
    "def strings_to_float(numbers: list):\n",
    "    result = []\n",
    "    for char in numbers:\n",
    "        try:\n",
    "            result.append(float(char))\n",
    "        except ValueError:\n",
    "            pass\n",
    "\n",
    "    return result\n",
    "\n",
    "\n",
    "user_input = input(\"Enter list of strings, separated by comma and space: \")\n",
    "list_input = user_input.split(', ')\n",
    "print(strings_to_float(list_input))"
   ]
  },
  {
   "cell_type": "markdown",
   "metadata": {},
   "source": [
    "4. Write a function that takes a list of dictionaries as an argument, and returns the value of a specified key from each dictionary. Use a try-except block to catch any KeyError exceptions that may be raised when attempting to access a key that does not exist in a dictionary."
   ]
  },
  {
   "cell_type": "code",
   "execution_count": 4,
   "metadata": {},
   "outputs": [
    {
     "name": "stdout",
     "output_type": "stream",
     "text": [
      "[30, 25]\n"
     ]
    }
   ],
   "source": [
    "def get_values_from_dicts(dicts, key):\n",
    "    values = []\n",
    "    for d in dicts:\n",
    "        try:\n",
    "            value = d[key]\n",
    "            values.append(value)\n",
    "        except KeyError:\n",
    "            pass\n",
    "\n",
    "    return values\n",
    "\n",
    "\n",
    "dict_list = [\n",
    "    {'name': 'Lyuba', 'age': 30},\n",
    "    {'name': 'Brave', 'age': 25},\n",
    "    {'name': 'Huston'},\n",
    "]\n",
    "\n",
    "key_to_extract = 'age'\n",
    "print(get_values_from_dicts(dict_list, key_to_extract))"
   ]
  },
  {
   "cell_type": "markdown",
   "metadata": {},
   "source": [
    "5. Write a function that takes a list of integers as an argument, and returns the largest integer in the list. Use a try-except block to catch any ValueError exceptions that may be raised when attempting to compare elements that are not integers."
   ]
  },
  {
   "cell_type": "code",
   "execution_count": 5,
   "metadata": {},
   "outputs": [
    {
     "name": "stdout",
     "output_type": "stream",
     "text": [
      "Enter a list of integers, separated with comma and space: -4, -3, -2\n",
      "-2\n"
     ]
    }
   ],
   "source": [
    "def get_largest_integer(numbers: list):\n",
    "    largest_int = None\n",
    "\n",
    "    for char in numbers:\n",
    "        try:\n",
    "            if largest_int is None or int(char) > largest_int:\n",
    "                largest_int = int(char)\n",
    "        except ValueError:\n",
    "            pass\n",
    "    return largest_int\n",
    "\n",
    "\n",
    "user_input = input(\"Enter a list of integers, separated with comma and space: \")\n",
    "list_input = user_input.split(', ')\n",
    "print(get_largest_integer(list_input))"
   ]
  }
 ],
 "metadata": {
  "kernelspec": {
   "display_name": "Python 3 (ipykernel)",
   "language": "python",
   "name": "python3"
  },
  "language_info": {
   "codemirror_mode": {
    "name": "ipython",
    "version": 3
   },
   "file_extension": ".py",
   "mimetype": "text/x-python",
   "name": "python",
   "nbconvert_exporter": "python",
   "pygments_lexer": "ipython3",
   "version": "3.11.4"
  },
  "vscode": {
   "interpreter": {
    "hash": "f7a5be651532581cb44625d52e18aa1d390cab54bc6b51099d8c30bea9b68219"
   }
  }
 },
 "nbformat": 4,
 "nbformat_minor": 2
}
